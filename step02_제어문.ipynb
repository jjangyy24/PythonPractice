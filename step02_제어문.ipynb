{
 "cells": [
  {
   "cell_type": "markdown",
   "metadata": {},
   "source": [
    "- 출력 포맷"
   ]
  },
  {
   "cell_type": "code",
   "execution_count": 1,
   "metadata": {},
   "outputs": [
    {
     "name": "stdout",
     "output_type": "stream",
     "text": [
      "23\n",
      "54321\n",
      "12345abc\n",
      "12345 12345\n"
     ]
    }
   ],
   "source": [
    "print(\"12345\"[1:3])\n",
    "print(\"12345\"[::-1])\n",
    "print(\"12345\"+\"abc\")\n",
    "print(\"12345\",12345)"
   ]
  },
  {
   "cell_type": "code",
   "execution_count": 3,
   "metadata": {},
   "outputs": [
    {
     "name": "stdout",
     "output_type": "stream",
     "text": [
      "1.6666666666666667\n",
      "      1.67\n"
     ]
    }
   ],
   "source": [
    "print(5/3)\n",
    "print(\"{:10.2f}\".format(5/3)) #{:.2f}도 가능"
   ]
  },
  {
   "cell_type": "code",
   "execution_count": 4,
   "metadata": {},
   "outputs": [
    {
     "name": "stdout",
     "output_type": "stream",
     "text": [
      "Hello, world!\n",
      "Hello, 100\n"
     ]
    }
   ],
   "source": [
    "print('Hello, {0}'.format('world!'))\n",
    "print('Hello, {0}'.format(100))"
   ]
  },
  {
   "cell_type": "code",
   "execution_count": 5,
   "metadata": {},
   "outputs": [
    {
     "name": "stdout",
     "output_type": "stream",
     "text": [
      "Hello, Python 3.6 Script\n"
     ]
    }
   ],
   "source": [
    "print('Hello, {0} {2} {1}'.format('Python','Script',3.6))"
   ]
  },
  {
   "cell_type": "code",
   "execution_count": 6,
   "metadata": {},
   "outputs": [
    {
     "name": "stdout",
     "output_type": "stream",
     "text": [
      "Python Python Script Script\n",
      "Hello, Python 3.6\n"
     ]
    }
   ],
   "source": [
    "print('{0} {0} {1} {1}'.format('Python', 'Script'))\n",
    "print('Hello, {language} {version}'.format(language='Python', version=3.6))"
   ]
  },
  {
   "cell_type": "code",
   "execution_count": 7,
   "metadata": {},
   "outputs": [
    {
     "name": "stdout",
     "output_type": "stream",
     "text": [
      "001\n",
      "002\n",
      "00003\n"
     ]
    }
   ],
   "source": [
    "print('%03d' % 1)\n",
    "print('{0:03d}'.format(2))\n",
    "print('{2:05d}'.format(1,2,3))"
   ]
  },
  {
   "cell_type": "code",
   "execution_count": 8,
   "metadata": {},
   "outputs": [
    {
     "name": "stdout",
     "output_type": "stream",
     "text": [
      "00123\n",
      "##123\n",
      "0goofy\n"
     ]
    }
   ],
   "source": [
    "s=\"123\"\n",
    "print(s.zfill(5)) \n",
    "print(s.rjust(5,'#')) #5자리 확보하고, 문자열 앞으로 #채우기 \n",
    "print('goofy'.zfill(6))"
   ]
  },
  {
   "cell_type": "markdown",
   "metadata": {},
   "source": [
    "-입력"
   ]
  },
  {
   "cell_type": "code",
   "execution_count": 9,
   "metadata": {},
   "outputs": [
    {
     "name": "stdout",
     "output_type": "stream",
     "text": [
      "inch ?5\n",
      "5 인치는  12.7 cm입니다\n"
     ]
    }
   ],
   "source": [
    "inch=int(input(\"inch ?\"))\n",
    "cm=inch*2.54\n",
    "\n",
    "#print(type(inch))\n",
    "print(inch ,\"인치는 \", cm, \"cm입니다\")"
   ]
  },
  {
   "cell_type": "markdown",
   "metadata": {},
   "source": [
    "- 제어문(if)"
   ]
  },
  {
   "cell_type": "code",
   "execution_count": 10,
   "metadata": {},
   "outputs": [
    {
     "name": "stdout",
     "output_type": "stream",
     "text": [
      "조건에 맞습니다\n"
     ]
    }
   ],
   "source": [
    "x=11\n",
    "if x > 10:\n",
    "    print(\"조건에 맞습니다\")"
   ]
  },
  {
   "cell_type": "code",
   "execution_count": 11,
   "metadata": {},
   "outputs": [
    {
     "name": "stdout",
     "output_type": "stream",
     "text": [
      "조건에 맞지 않습니다\n"
     ]
    }
   ],
   "source": [
    "x=30\n",
    "if x > 10 and x < 20:\n",
    "    print(\"조건에 맞습니다\")\n",
    "else:\n",
    "    print(\"조건에 맞지 않습니다\")"
   ]
  },
  {
   "cell_type": "code",
   "execution_count": 13,
   "metadata": {},
   "outputs": [
    {
     "name": "stdout",
     "output_type": "stream",
     "text": [
      "태어난 년도:1997\n",
      "소\n"
     ]
    }
   ],
   "source": [
    "year=int(input(\"태어난 년도:\"))\n",
    "if (year%12)==0:\n",
    "    print(\"원숭이\")\n",
    "elif (year%12)==1:\n",
    "    print(\"닭\")\n",
    "elif (year%12)==2:\n",
    "    print(\"개\")\n",
    "elif (year%12)==3:\n",
    "    print(\"돼지\")\n",
    "elif (year%12)==4:\n",
    "    print(\"쥐\")\n",
    "elif (year%12)==5:\n",
    "    print(\"소\")\n",
    "elif (year%12)==6:\n",
    "    print(\"범\")\n",
    "elif (year%12)==7:\n",
    "    print(\"토끼\")\n",
    "elif (year%12)==8:\n",
    "    print(\"용\")  \n",
    "elif (year%12)==9:\n",
    "    print(\"뱀\") \n",
    "elif (year%12)==10:\n",
    "    print(\"말\") \n",
    "else:\n",
    "    print(\"양\")"
   ]
  },
  {
   "cell_type": "code",
   "execution_count": 14,
   "metadata": {},
   "outputs": [
    {
     "name": "stdout",
     "output_type": "stream",
     "text": [
      "태어난 년도:1995\n",
      "돼지\n"
     ]
    }
   ],
   "source": [
    "#list사용\n",
    "year=int(input(\"태어난 년도:\"))\n",
    "l=[\"원숭이\",\"닭\",\"개\",\"돼지\",\"쥐\",\"소\",\"범\",\"토끼\",\"용\",\"뱀\",\"말\",\"양\"]\n",
    "n=year%12\n",
    "print(l[n])"
   ]
  },
  {
   "cell_type": "code",
   "execution_count": 15,
   "metadata": {},
   "outputs": [
    {
     "name": "stdout",
     "output_type": "stream",
     "text": [
      "태어난 년도:1990\n",
      "말\n"
     ]
    }
   ],
   "source": [
    "#tupple사용\n",
    "year=int(input(\"태어난 년도:\"))\n",
    "t=(\"원숭이\",\"닭\",\"개\",\"돼지\",\"쥐\",\"소\",\"범\",\"토끼\",\"용\",\"뱀\",\"말\",\"양\")\n",
    "n=year%12\n",
    "print(t[n])"
   ]
  },
  {
   "cell_type": "code",
   "execution_count": 16,
   "metadata": {},
   "outputs": [
    {
     "name": "stdout",
     "output_type": "stream",
     "text": [
      "태어난 년도:1970\n",
      "개\n"
     ]
    }
   ],
   "source": [
    "#dict사용\n",
    "year=int(input(\"태어난 년도:\"))\n",
    "d={'0':'원숭이','1':'닭','2':'개','3':'돼지','4':'쥐','5':'소',\n",
    "   '6':'범','7':'토끼','8':'용','9':'뱀','10':'말','11':'양'}\n",
    "n=year%12\n",
    "print(d[str(n)])"
   ]
  },
  {
   "cell_type": "code",
   "execution_count": 17,
   "metadata": {},
   "outputs": [
    {
     "name": "stdout",
     "output_type": "stream",
     "text": [
      "(1, [1, 2, 3], 2)\n",
      "(1, [10, 2, 3], 2)\n"
     ]
    }
   ],
   "source": [
    "f=(1,[1,2,3],2)\n",
    "print(f)\n",
    "\n",
    "f[1][0]=10\n",
    "print(f)"
   ]
  },
  {
   "cell_type": "code",
   "execution_count": 18,
   "metadata": {},
   "outputs": [
    {
     "name": "stdout",
     "output_type": "stream",
     "text": [
      "False\n",
      "False\n",
      "True\n",
      "True\n"
     ]
    }
   ],
   "source": [
    "x = 9000\n",
    "y = 9000\n",
    "z = 1\n",
    "print(x is y) #is 메모리주소값 비교\n",
    "print(id(x) == id(y)) #id(변수) : 객체의 레퍼런스 반환\n",
    "print(x == y) #양쪽 값 비교\n",
    "\n",
    "x=z\n",
    "y=z\n",
    "print(x is y) #z의 값은 고유한데 그걸 x,y에 대입했으니까 값은 같음"
   ]
  },
  {
   "cell_type": "markdown",
   "metadata": {},
   "source": [
    "- 제어문(for)"
   ]
  },
  {
   "cell_type": "code",
   "execution_count": 19,
   "metadata": {},
   "outputs": [
    {
     "name": "stdout",
     "output_type": "stream",
     "text": [
      "9 8 7 6 5 4 3 2 1 0 "
     ]
    }
   ],
   "source": [
    "for i in list(range(10)[::-1]): #range(10) : 0부터 9까지의 값\n",
    "    print(i, end=' ')"
   ]
  },
  {
   "cell_type": "code",
   "execution_count": 20,
   "metadata": {},
   "outputs": [
    {
     "name": "stdout",
     "output_type": "stream",
     "text": [
      "*\n",
      "**\n",
      "***\n",
      "****\n",
      "*****\n",
      "******\n"
     ]
    }
   ],
   "source": [
    "for a in range(1,7):     \n",
    "    for b in range(a):\n",
    "        print(\"*\", end=\"\")\n",
    "    print()"
   ]
  },
  {
   "cell_type": "code",
   "execution_count": 22,
   "metadata": {},
   "outputs": [
    {
     "name": "stdout",
     "output_type": "stream",
     "text": [
      "54321\n",
      "4321\n",
      "321\n",
      "21\n",
      "1\n",
      "\n"
     ]
    }
   ],
   "source": [
    "for a in range(1,7)[::-1]: #range(1,7) :1,2,3,4,5,6\n",
    "    for b in range(1,a)[::-1]: #range(1,6) : 1,2,3,4,5\n",
    "        print(b,end=\"\")\n",
    "    print()"
   ]
  },
  {
   "cell_type": "code",
   "execution_count": 23,
   "metadata": {},
   "outputs": [
    {
     "name": "stdout",
     "output_type": "stream",
     "text": [
      "range(0, 6)\n"
     ]
    }
   ],
   "source": [
    "a=range(6)  # list(range(6))\n",
    "print(a)"
   ]
  },
  {
   "cell_type": "code",
   "execution_count": 24,
   "metadata": {},
   "outputs": [
    {
     "name": "stdout",
     "output_type": "stream",
     "text": [
      "                    \n",
      "                   *\n",
      "                  ***\n",
      "                 *****\n",
      "                *******\n",
      "               *********\n",
      "              ***********\n",
      "             *************\n",
      "            ***************\n",
      "           *****************\n"
     ]
    }
   ],
   "source": [
    "for a in  list(range(10)): #range(0,10) 0,1,2,3,4,5,6,7,8,9\n",
    "    for b in range(20-a):\n",
    "        print(\" \",end=\"\")\n",
    "    for b in range(a*2-1):\n",
    "        print(\"*\", end=\"\")\n",
    "    print()"
   ]
  },
  {
   "cell_type": "code",
   "execution_count": 25,
   "metadata": {},
   "outputs": [
    {
     "name": "stdout",
     "output_type": "stream",
     "text": [
      "                    \n",
      "                   *\n",
      "                  **\n",
      "                 ***\n",
      "                ****\n",
      "               *****\n",
      "              ******\n",
      "             *******\n",
      "            ********\n",
      "           *********\n"
     ]
    }
   ],
   "source": [
    "for i in range(10): #0,1,2,3,4,5,6,7,8,9\n",
    "    print(str(\"*\"*i).rjust(20))"
   ]
  },
  {
   "cell_type": "code",
   "execution_count": 26,
   "metadata": {},
   "outputs": [
    {
     "name": "stdout",
     "output_type": "stream",
     "text": [
      "         *          \n",
      "        ***         \n",
      "       *****        \n",
      "      *******       \n",
      "     *********      \n",
      "    ***********     \n",
      "   *************    \n",
      "  ***************   \n",
      " *****************  \n",
      "******************* \n"
     ]
    }
   ],
   "source": [
    "for i in range(20)[1::2]:\n",
    "    print(str(\"*\"*i).center(20)) # center(20) :20자리 확보하고 중앙정렬"
   ]
  },
  {
   "cell_type": "code",
   "execution_count": 28,
   "metadata": {},
   "outputs": [
    {
     "name": "stdout",
     "output_type": "stream",
     "text": [
      "*\n",
      "***\n",
      "*****\n",
      "*******\n",
      "*********\n",
      "***********\n",
      "*************\n",
      "***************\n",
      "*****************\n",
      "*******************\n"
     ]
    }
   ],
   "source": [
    "for i in range(20)[1::2]:\n",
    "    print(str(\"*\"*i))"
   ]
  },
  {
   "cell_type": "code",
   "execution_count": 29,
   "metadata": {},
   "outputs": [
    {
     "name": "stdout",
     "output_type": "stream",
     "text": [
      "2x1= 2\n",
      "2x2= 4\n",
      "2x3= 6\n",
      "2x4= 8\n",
      "2x5=10\n",
      "2x6=12\n",
      "2x7=14\n",
      "2x8=16\n",
      "2x9=18\n",
      "\n",
      "3x1= 3\n",
      "3x2= 6\n",
      "3x3= 9\n",
      "3x4=12\n",
      "3x5=15\n",
      "3x6=18\n",
      "3x7=21\n",
      "3x8=24\n",
      "3x9=27\n",
      "\n",
      "4x1= 4\n",
      "4x2= 8\n",
      "4x3=12\n",
      "4x4=16\n",
      "4x5=20\n",
      "4x6=24\n",
      "4x7=28\n",
      "4x8=32\n",
      "4x9=36\n",
      "\n",
      "5x1= 5\n",
      "5x2=10\n",
      "5x3=15\n",
      "5x4=20\n",
      "5x5=25\n",
      "5x6=30\n",
      "5x7=35\n",
      "5x8=40\n",
      "5x9=45\n",
      "\n",
      "6x1= 6\n",
      "6x2=12\n",
      "6x3=18\n",
      "6x4=24\n",
      "6x5=30\n",
      "6x6=36\n",
      "6x7=42\n",
      "6x8=48\n",
      "6x9=54\n",
      "\n",
      "7x1= 7\n",
      "7x2=14\n",
      "7x3=21\n",
      "7x4=28\n",
      "7x5=35\n",
      "7x6=42\n",
      "7x7=49\n",
      "7x8=56\n",
      "7x9=63\n",
      "\n",
      "8x1= 8\n",
      "8x2=16\n",
      "8x3=24\n",
      "8x4=32\n",
      "8x5=40\n",
      "8x6=48\n",
      "8x7=56\n",
      "8x8=64\n",
      "8x9=72\n",
      "\n",
      "9x1= 9\n",
      "9x2=18\n",
      "9x3=27\n",
      "9x4=36\n",
      "9x5=45\n",
      "9x6=54\n",
      "9x7=63\n",
      "9x8=72\n",
      "9x9=81\n",
      "\n"
     ]
    }
   ],
   "source": [
    "#구구단\n",
    "for a in range(2,10):\n",
    "    for b in range(1,10):\n",
    "        print(\"{0}x{1}={2:2d}\".format(a,b,a*b))\n",
    "    print()b"
   ]
  },
  {
   "cell_type": "markdown",
   "metadata": {},
   "source": [
    "- 메일 머지(mail merge)"
   ]
  },
  {
   "cell_type": "code",
   "execution_count": 30,
   "metadata": {},
   "outputs": [
    {
     "name": "stdout",
     "output_type": "stream",
     "text": [
      "\n",
      "안녕하세요 Kim님,\n",
      "오늘 면접에 참석해 주실 수 있나요?\n",
      "시간은 10시입니다.\n",
      "그럼 이만~\n",
      "둘리 드림\n",
      "----------------------------------------\n",
      "\n",
      "\n",
      "안녕하세요 Lee님,\n",
      "오늘 면접에 참석해 주실 수 있나요?\n",
      "시간은 11시입니다.\n",
      "그럼 이만~\n",
      "둘리 드림\n",
      "----------------------------------------\n",
      "\n",
      "\n",
      "안녕하세요 Park님,\n",
      "오늘 면접에 참석해 주실 수 있나요?\n",
      "시간은 12시입니다.\n",
      "그럼 이만~\n",
      "둘리 드림\n",
      "----------------------------------------\n",
      "\n"
     ]
    }
   ],
   "source": [
    "letter = '''\n",
    "안녕하세요 %s님,\n",
    "오늘 면접에 참석해 주실 수 있나요?\n",
    "시간은 %s입니다.\n",
    "그럼 이만~\n",
    "둘리 드림'''\n",
    "\n",
    "names = ['Kim', 'Lee', 'Park']\n",
    "times = ['10시', '11시', '12시']\n",
    "for i in range(len(names)):\n",
    "    print(letter % (names[i],times[i]))\n",
    "    print('-' * 40)\n",
    "    print()"
   ]
  }
 ],
 "metadata": {
  "kernelspec": {
   "display_name": "Python 3",
   "language": "python",
   "name": "python3"
  },
  "language_info": {
   "codemirror_mode": {
    "name": "ipython",
    "version": 3
   },
   "file_extension": ".py",
   "mimetype": "text/x-python",
   "name": "python",
   "nbconvert_exporter": "python",
   "pygments_lexer": "ipython3",
   "version": "3.7.3"
  }
 },
 "nbformat": 4,
 "nbformat_minor": 2
}
