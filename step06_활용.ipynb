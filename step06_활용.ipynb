{
 "cells": [
  {
   "cell_type": "markdown",
   "metadata": {},
   "source": [
    "# 기상청 파싱"
   ]
  },
  {
   "cell_type": "code",
   "execution_count": 1,
   "metadata": {},
   "outputs": [
    {
     "name": "stdout",
     "output_type": "stream",
     "text": [
      "도시: 서울\n",
      "날씨: 맑음\n",
      "최저기온: 11\n",
      "최고기온: 21\n",
      "도시: 인천\n",
      "날씨: 맑음\n",
      "최저기온: 12\n",
      "최고기온: 20\n",
      "도시: 수원\n",
      "날씨: 맑음\n",
      "최저기온: 10\n",
      "최고기온: 21\n",
      "도시: 파주\n",
      "날씨: 맑음\n",
      "최저기온: 7\n",
      "최고기온: 20\n",
      "도시: 이천\n",
      "날씨: 맑음\n",
      "최저기온: 8\n",
      "최고기온: 21\n",
      "도시: 평택\n",
      "날씨: 맑음\n",
      "최저기온: 10\n",
      "최고기온: 21\n",
      "도시: 춘천\n",
      "날씨: 맑음\n",
      "최저기온: 7\n",
      "최고기온: 21\n",
      "도시: 원주\n",
      "날씨: 맑음\n",
      "최저기온: 8\n",
      "최고기온: 22\n",
      "도시: 강릉\n",
      "날씨: 맑음\n",
      "최저기온: 11\n",
      "최고기온: 22\n",
      "도시: 대전\n",
      "날씨: 맑음\n",
      "최저기온: 10\n",
      "최고기온: 20\n",
      "도시: 세종\n",
      "날씨: 맑음\n",
      "최저기온: 9\n",
      "최고기온: 20\n",
      "도시: 홍성\n",
      "날씨: 맑음\n",
      "최저기온: 8\n",
      "최고기온: 20\n",
      "도시: 청주\n",
      "날씨: 맑음\n",
      "최저기온: 11\n",
      "최고기온: 21\n",
      "도시: 충주\n",
      "날씨: 맑음\n",
      "최저기온: 8\n",
      "최고기온: 20\n",
      "도시: 영동\n",
      "날씨: 맑음\n",
      "최저기온: 8\n",
      "최고기온: 21\n",
      "도시: 광주\n",
      "날씨: 맑음\n",
      "최저기온: 11\n",
      "최고기온: 23\n",
      "도시: 목포\n",
      "날씨: 맑음\n",
      "최저기온: 13\n",
      "최고기온: 22\n",
      "도시: 여수\n",
      "날씨: 맑음\n",
      "최저기온: 15\n",
      "최고기온: 22\n",
      "도시: 순천\n",
      "날씨: 맑음\n",
      "최저기온: 11\n",
      "최고기온: 23\n",
      "도시: 광양\n",
      "날씨: 맑음\n",
      "최저기온: 12\n",
      "최고기온: 23\n",
      "도시: 나주\n",
      "날씨: 맑음\n",
      "최저기온: 8\n",
      "최고기온: 23\n",
      "도시: 전주\n",
      "날씨: 맑음\n",
      "최저기온: 11\n",
      "최고기온: 21\n",
      "도시: 군산\n",
      "날씨: 맑음\n",
      "최저기온: 11\n",
      "최고기온: 20\n",
      "도시: 정읍\n",
      "날씨: 맑음\n",
      "최저기온: 10\n",
      "최고기온: 20\n",
      "도시: 남원\n",
      "날씨: 맑음\n",
      "최저기온: 9\n",
      "최고기온: 21\n",
      "도시: 고창\n",
      "날씨: 맑음\n",
      "최저기온: 10\n",
      "최고기온: 20\n",
      "도시: 무주\n",
      "날씨: 맑음\n",
      "최저기온: 7\n",
      "최고기온: 21\n",
      "도시: 부산\n",
      "날씨: 맑음\n",
      "최저기온: 15\n",
      "최고기온: 23\n",
      "도시: 울산\n",
      "날씨: 맑음\n",
      "최저기온: 12\n",
      "최고기온: 23\n",
      "도시: 창원\n",
      "날씨: 맑음\n",
      "최저기온: 13\n",
      "최고기온: 22\n",
      "도시: 진주\n",
      "날씨: 맑음\n",
      "최저기온: 9\n",
      "최고기온: 22\n",
      "도시: 거창\n",
      "날씨: 맑음\n",
      "최저기온: 6\n",
      "최고기온: 22\n",
      "도시: 통영\n",
      "날씨: 맑음\n",
      "최저기온: 14\n",
      "최고기온: 23\n",
      "도시: 대구\n",
      "날씨: 맑음\n",
      "최저기온: 10\n",
      "최고기온: 22\n",
      "도시: 안동\n",
      "날씨: 맑음\n",
      "최저기온: 7\n",
      "최고기온: 20\n",
      "도시: 포항\n",
      "날씨: 맑음\n",
      "최저기온: 12\n",
      "최고기온: 21\n",
      "도시: 경주\n",
      "날씨: 맑음\n",
      "최저기온: 8\n",
      "최고기온: 21\n",
      "도시: 울진\n",
      "날씨: 맑음\n",
      "최저기온: 10\n",
      "최고기온: 21\n",
      "도시: 울릉도\n",
      "날씨: 맑음\n",
      "최저기온: 14\n",
      "최고기온: 19\n",
      "도시: 제주\n",
      "날씨: 맑음\n",
      "최저기온: 17\n",
      "최고기온: 22\n",
      "도시: 서귀포\n",
      "날씨: 맑음\n",
      "최저기온: 17\n",
      "최고기온: 24\n"
     ]
    }
   ],
   "source": [
    "# 모듈을 읽어 들입니다.\n",
    "#from urllib import request\n",
    "import urllib\n",
    "from bs4 import BeautifulSoup\n",
    "\n",
    "# urlopen() 함수로 기상청의 전국 날씨를 읽습니다.\n",
    "target  =  urllib.request.urlopen(\"http://www.kma.go.kr/weather/forecast/mid-term-rss3.jsp?stnId=108\")\n",
    "\n",
    "# BeautifulSoup를 사용해 웹 페이지를 분석합니다.\n",
    "soup = BeautifulSoup(target, \"html.parser\")\n",
    "\n",
    "# location 태그를 찾습니다.\n",
    "for location in soup.select(\"location\"):\n",
    "    # 내부의 city, wf, tmn, tmx 태그를 찾아 출력합니다.\n",
    "    print(\"도시:\", location.select_one(\"city\").string)\n",
    "    print(\"날씨:\", location.select_one(\"wf\").string)\n",
    "    print(\"최저기온:\", location.select_one(\"tmn\").string)\n",
    "    print(\"최고기온:\", location.select_one(\"tmx\").string)"
   ]
  },
  {
   "cell_type": "markdown",
   "metadata": {},
   "source": [
    "# 영화정보 가져오기"
   ]
  },
  {
   "cell_type": "code",
   "execution_count": 3,
   "metadata": {},
   "outputs": [
    {
     "name": "stdout",
     "output_type": "stream",
     "text": [
      "그린 북\n",
      "가버나움\n",
      "주전장\n",
      "베일리 어게인\n",
      "사랑의 선물\n",
      "아일라\n",
      "원더\n",
      "당갈\n",
      "쇼생크 탈출\n",
      "안녕 베일리\n",
      "보헤미안 랩소디\n",
      "터미네이터 2\n",
      "덕구\n",
      "월-E\n",
      "빽 투 더 퓨쳐\n",
      "나 홀로 집에\n",
      "인생은 아름다워\n",
      "살인의 추억\n",
      "매트릭스\n",
      "라이언 일병 구하기\n",
      "포레스트 검프\n",
      "사운드 오브 뮤직\n",
      "헬프\n",
      "글래디에이터\n",
      "알라딘\n",
      "어벤져스: 엔드게임\n",
      "토이 스토리 3\n",
      "센과 치히로의 행방불명\n",
      "헌터 킬러\n",
      "위대한 쇼맨\n",
      "죽은 시인의 사회\n",
      "클래식\n",
      "아이 캔 스피크\n",
      "반지의 제왕: 왕의 귀환\n",
      "레옹\n",
      "동주\n",
      "캐스트 어웨이\n",
      "굿바이 마이 프랜드\n",
      "여인의 향기\n",
      "주토피아\n",
      "클레멘타인\n",
      "세 얼간이\n",
      "히든 피겨스\n",
      "집으로...\n",
      "타이타닉\n",
      "지금, 만나러 갑니다\n",
      "쉰들러 리스트\n",
      "언터처블: 1%의 우정\n",
      "서유기 2 - 선리기연\n",
      "에이리언 2\n"
     ]
    }
   ],
   "source": [
    "import urllib\n",
    "from bs4 import BeautifulSoup\n",
    "\n",
    "soup2 = BeautifulSoup(urllib.request.urlopen('http://movie.naver.com/movie/sdb/rank/rmovie.nhn?sel=pnt&date=20191006').read(), 'html.parser')\n",
    "\n",
    "#print(soup2.find_all(\"div\",{\"class\":\"tit5\"}))\n",
    "#print(soup2.find(\"div\",{\"class\":\"tit5\"}).find('a').text)\n",
    "\n",
    "for i in soup2.find_all(\"div\",\"tit5\"):\n",
    "    print(i.find('a').text)\n",
    "\n",
    "#print(soup2)"
   ]
  },
  {
   "cell_type": "code",
   "execution_count": 4,
   "metadata": {},
   "outputs": [
    {
     "name": "stdout",
     "output_type": "stream",
     "text": [
      "조커\n"
     ]
    }
   ],
   "source": [
    "soup2 = BeautifulSoup(urllib.request.urlopen('https://movie.naver.com/movie/running/current.nhn').read(), 'html.parser')\n",
    "print(soup2.find(\"ul\",{\"class\":\"top_thumb_lst\"}).find(\"li\").get('data-title'))\n",
    "#print(soup2)"
   ]
  },
  {
   "cell_type": "code",
   "execution_count": 5,
   "metadata": {},
   "outputs": [
    {
     "name": "stdout",
     "output_type": "stream",
     "text": [
      "조커\n",
      "가장 보통의 연애\n",
      "퍼펙트맨\n",
      "장사리 : 잊혀진 영웅들\n",
      "소피와 드래곤: 마법책의 비밀\n",
      "나쁜 녀석들: 더 무비\n",
      "양자물리학\n",
      "몬스터 하우스\n",
      "원스 어폰 어 타임... 인 할리우드\n",
      "극장판 헬로카봇 : 달나라를 구해줘!\n",
      "벌새\n",
      "레플리카\n",
      "오션스: 문어구출대작전\n",
      "애드 아스트라\n",
      "메기\n"
     ]
    }
   ],
   "source": [
    "for i in soup2.find(\"ul\",{\"class\":\"top_thumb_lst\"}).find_all('li'):\n",
    "    print(i.get('data-title'))"
   ]
  },
  {
   "cell_type": "markdown",
   "metadata": {},
   "source": [
    "# 이름공간"
   ]
  },
  {
   "cell_type": "code",
   "execution_count": null,
   "metadata": {},
   "outputs": [],
   "source": [
    "#이름공간 == 패키지명"
   ]
  },
  {
   "cell_type": "code",
   "execution_count": 1,
   "metadata": {},
   "outputs": [
    {
     "name": "stdout",
     "output_type": "stream",
     "text": [
      "1\n",
      "10\n",
      "1\n"
     ]
    }
   ],
   "source": [
    "class S1:\n",
    "    a = 1\n",
    "    \n",
    "x = S1() # x는 S1의 클래스 인스턴스\n",
    "print(x.a)\n",
    "\n",
    "x.a = 10 # 클래스 인스턴스 x의 이름 공간에 이름 생성\n",
    "print(x.a)\n",
    "\n",
    "print(S1.a) # 클래스 이름 공간과 클래스 인스턴스의 이름공간은 다르다"
   ]
  },
  {
   "cell_type": "code",
   "execution_count": 2,
   "metadata": {},
   "outputs": [],
   "source": [
    "class Simple:\n",
    "    pass\n",
    "\n",
    "s1 = Simple()\n",
    "s2 = Simple()"
   ]
  },
  {
   "cell_type": "code",
   "execution_count": 3,
   "metadata": {},
   "outputs": [
    {
     "name": "stdout",
     "output_type": "stream",
     "text": [
      "[1, 2, 3]\n",
      "3\n",
      "2\n",
      "\n",
      "[1]\n"
     ]
    }
   ],
   "source": [
    "s1.stack = [] # 동적으로 클래스 인스턴스 이름 공간 안에 새로운 변수(이름) stack 생성\n",
    "s1.stack.append(1) # 값 추가\n",
    "s1.stack.append(2)\n",
    "s1.stack.append(3)\n",
    "\n",
    "print(s1.stack)\n",
    "print(s1.stack.pop()) \n",
    "print(s1.stack.pop())\n",
    "print()\n",
    "print(s1.stack) # 최종 s1.stack값\n",
    "#print(s2.stack) # s2에는 stack을 정의한 적이 없다."
   ]
  },
  {
   "cell_type": "code",
   "execution_count": 4,
   "metadata": {},
   "outputs": [
    {
     "name": "stdout",
     "output_type": "stream",
     "text": [
      "1\n",
      "\n",
      "set function outside function -  2\n",
      "1\n"
     ]
    }
   ],
   "source": [
    "def set(i):\n",
    "    print(\"set function outside function - \", i)\n",
    "    \n",
    "class MyClass:\n",
    "    def set(self, v):\n",
    "        self.value = v\n",
    "        \n",
    "    def incr(self):\n",
    "        set(self.value + 1)     # 클래스 외부에 존재하는 set 메소드 호출\n",
    "\n",
    "    def get(self):\n",
    "        return self.value\n",
    "    \n",
    "c = MyClass()\n",
    "c.set(1)\n",
    "print(c.get())\n",
    "\n",
    "print()\n",
    "\n",
    "c.incr()\n",
    "print(c.get())"
   ]
  },
  {
   "cell_type": "code",
   "execution_count": 5,
   "metadata": {},
   "outputs": [
    {
     "name": "stdout",
     "output_type": "stream",
     "text": [
      "Birthday Mon Oct  7 14:15:48 2019\n",
      "Sleeping for 3 sec\n",
      "Deathday Mon Oct  7 14:15:51 2019\n"
     ]
    }
   ],
   "source": [
    "from time import ctime, sleep\n",
    "\n",
    "class Life:\n",
    "    def __init__(self):               # 생성자\n",
    "        self.birth = ctime()          # 현재시간에 대한 문자열을 얻는다.\n",
    "        print('Birthday', self.birth) # 현재 시간 출력\n",
    "        \n",
    "    def __del__(self):                # 소멸자\n",
    "        print('Deathday', ctime())    # 소멸 시간 출력 \n",
    "\n",
    "def test():\n",
    "    mylife = Life()\n",
    "    print('Sleeping for 3 sec')\n",
    "    sleep(3) #3초간 sleep(block)상태에 있음 (즉, 3초간 CPU 점유 못함)\n",
    "\n",
    "test()"
   ]
  },
  {
   "cell_type": "code",
   "execution_count": 6,
   "metadata": {},
   "outputs": [
    {
     "name": "stdout",
     "output_type": "stream",
     "text": [
      "self.i:10\n",
      "self.i:10\n"
     ]
    }
   ],
   "source": [
    "class Integer:\n",
    "    def __init__(self, i):\n",
    "        self.i = i\n",
    "    def __str__(self):\n",
    "        return \"self.i:\" + str(self.i)\n",
    "\n",
    "i = Integer(10)\n",
    "print(i)\n",
    "print(str(i))"
   ]
  },
  {
   "cell_type": "code",
   "execution_count": 7,
   "metadata": {},
   "outputs": [
    {
     "name": "stdout",
     "output_type": "stream",
     "text": [
      "[1, 3]\n"
     ]
    }
   ],
   "source": [
    "L=[1,2,3]\n",
    "del L[1]\n",
    "\n",
    "print(L)"
   ]
  },
  {
   "cell_type": "code",
   "execution_count": 8,
   "metadata": {},
   "outputs": [
    {
     "name": "stdout",
     "output_type": "stream",
     "text": [
      "[1, 3]\n"
     ]
    }
   ],
   "source": [
    "class MyList(list):\n",
    "    def __sub__(self,other):\n",
    "        for i in other:\n",
    "            if(i in self):\n",
    "                self.remove(i)\n",
    "        return self\n",
    "        \n",
    "L=MyList([1,2,3])\n",
    "L2=MyList([2])\n",
    "\n",
    "print(L-L2)"
   ]
  },
  {
   "cell_type": "code",
   "execution_count": 9,
   "metadata": {},
   "outputs": [
    {
     "name": "stdout",
     "output_type": "stream",
     "text": [
      "[로또 당첨번호]\n",
      "[31, 42, 7, 34, 33, 41]\n"
     ]
    }
   ],
   "source": [
    "import random\n",
    "\n",
    "class MyLotto():\n",
    "    def __init__(self):\n",
    "        print(\"[로또 당첨번호]\")\n",
    "        \n",
    "    def Lotto(self):#self는 this\n",
    "        L = []\n",
    "        while(1):\n",
    "            if (len(L) == 6):\n",
    "                break\n",
    "            tmp_num = random.randrange(1,46,1)\n",
    "            if (tmp_num not in L):\n",
    "                L.append(tmp_num)\n",
    "        #print(sorted(L))\n",
    "        return print(L)\n",
    "    \n",
    "c=MyLotto()\n",
    "c.Lotto()   "
   ]
  },
  {
   "cell_type": "code",
   "execution_count": 10,
   "metadata": {},
   "outputs": [
    {
     "name": "stdout",
     "output_type": "stream",
     "text": [
      "[로또 당첨번호]\n",
      "set function outside function -  [35, 8, 35, 19, 40, 20]\n"
     ]
    },
    {
     "ename": "TypeError",
     "evalue": "object of type 'NoneType' has no len()",
     "output_type": "error",
     "traceback": [
      "\u001b[1;31m---------------------------------------------------------------------------\u001b[0m",
      "\u001b[1;31mTypeError\u001b[0m                                 Traceback (most recent call last)",
      "\u001b[1;32m<ipython-input-10-554fd9b47b5f>\u001b[0m in \u001b[0;36m<module>\u001b[1;34m\u001b[0m\n\u001b[0;32m     12\u001b[0m \u001b[1;33m\u001b[0m\u001b[0m\n\u001b[0;32m     13\u001b[0m \u001b[0mc\u001b[0m\u001b[1;33m=\u001b[0m\u001b[0mMyLotto\u001b[0m\u001b[1;33m(\u001b[0m\u001b[1;33m)\u001b[0m\u001b[1;33m\u001b[0m\u001b[1;33m\u001b[0m\u001b[0m\n\u001b[1;32m---> 14\u001b[1;33m \u001b[0mc\u001b[0m\u001b[1;33m.\u001b[0m\u001b[0mLotto\u001b[0m\u001b[1;33m(\u001b[0m\u001b[1;33m)\u001b[0m\u001b[1;33m\u001b[0m\u001b[1;33m\u001b[0m\u001b[0m\n\u001b[0m",
      "\u001b[1;32m<ipython-input-10-554fd9b47b5f>\u001b[0m in \u001b[0;36mLotto\u001b[1;34m(self)\u001b[0m\n\u001b[0;32m      7\u001b[0m     \u001b[1;32mdef\u001b[0m \u001b[0mLotto\u001b[0m\u001b[1;33m(\u001b[0m\u001b[0mself\u001b[0m\u001b[1;33m)\u001b[0m\u001b[1;33m:\u001b[0m\u001b[1;33m\u001b[0m\u001b[1;33m\u001b[0m\u001b[0m\n\u001b[0;32m      8\u001b[0m         \u001b[0mL\u001b[0m \u001b[1;33m=\u001b[0m \u001b[1;33m[\u001b[0m\u001b[1;33m]\u001b[0m\u001b[1;33m\u001b[0m\u001b[1;33m\u001b[0m\u001b[0m\n\u001b[1;32m----> 9\u001b[1;33m         \u001b[1;32mwhile\u001b[0m\u001b[1;33m(\u001b[0m\u001b[0mlen\u001b[0m\u001b[1;33m(\u001b[0m\u001b[0mL\u001b[0m\u001b[1;33m)\u001b[0m \u001b[1;33m<\u001b[0m \u001b[1;36m6\u001b[0m \u001b[1;33m)\u001b[0m\u001b[1;33m:\u001b[0m  \u001b[1;31m#오류 해결할것\u001b[0m\u001b[1;33m\u001b[0m\u001b[1;33m\u001b[0m\u001b[0m\n\u001b[0m\u001b[0;32m     10\u001b[0m             \u001b[0mL\u001b[0m \u001b[1;33m=\u001b[0m \u001b[0mset\u001b[0m\u001b[1;33m(\u001b[0m\u001b[1;33m[\u001b[0m\u001b[0mrandom\u001b[0m\u001b[1;33m.\u001b[0m\u001b[0mrandrange\u001b[0m\u001b[1;33m(\u001b[0m\u001b[1;36m1\u001b[0m\u001b[1;33m,\u001b[0m \u001b[1;36m46\u001b[0m\u001b[1;33m,\u001b[0m \u001b[1;36m1\u001b[0m\u001b[1;33m)\u001b[0m \u001b[1;32mfor\u001b[0m \u001b[0mk\u001b[0m \u001b[1;32min\u001b[0m \u001b[0mrange\u001b[0m\u001b[1;33m(\u001b[0m\u001b[1;36m6\u001b[0m\u001b[1;33m)\u001b[0m\u001b[1;33m]\u001b[0m\u001b[1;33m)\u001b[0m\u001b[1;33m\u001b[0m\u001b[1;33m\u001b[0m\u001b[0m\n\u001b[0;32m     11\u001b[0m         \u001b[1;32mreturn\u001b[0m \u001b[0mprint\u001b[0m\u001b[1;33m(\u001b[0m\u001b[0mL\u001b[0m\u001b[1;33m)\u001b[0m\u001b[1;33m\u001b[0m\u001b[1;33m\u001b[0m\u001b[0m\n",
      "\u001b[1;31mTypeError\u001b[0m: object of type 'NoneType' has no len()"
     ]
    }
   ],
   "source": [
    "import random\n",
    "\n",
    "class MyLotto():\n",
    "    def __init__(self):\n",
    "        print(\"[로또 당첨번호]\")\n",
    "        \n",
    "    def Lotto(self):\n",
    "        L = []\n",
    "        while(len(L) < 6 ):  #오류 해결할것\n",
    "            L = set([random.randrange(1, 46, 1) for k in range(6)])\n",
    "        return print(L)\n",
    "    \n",
    "c=MyLotto()\n",
    "c.Lotto()  "
   ]
  },
  {
   "cell_type": "code",
   "execution_count": 12,
   "metadata": {},
   "outputs": [
    {
     "name": "stdout",
     "output_type": "stream",
     "text": [
      "[1, 2, 3, 'spam', 4, 5]\n",
      "\n",
      "[1, 2, 3, 5]\n"
     ]
    }
   ],
   "source": [
    "class MyList(list):\n",
    "    def __sub__(self, other):   # '-' 연산자 중복 함수 정의\n",
    "        for x in other:\n",
    "            if x in self:\n",
    "                self.remove(x)     # 각 항목을 하나씩 삭제한다.\n",
    "        return self\n",
    "\n",
    "L = MyList([1, 2, 3, 'spam', 4, 5])\n",
    "print(L)\n",
    "print()\n",
    "\n",
    "L = L - ['spam', 4]\n",
    "print(L)"
   ]
  }
 ],
 "metadata": {
  "kernelspec": {
   "display_name": "Python 3",
   "language": "python",
   "name": "python3"
  },
  "language_info": {
   "codemirror_mode": {
    "name": "ipython",
    "version": 3
   },
   "file_extension": ".py",
   "mimetype": "text/x-python",
   "name": "python",
   "nbconvert_exporter": "python",
   "pygments_lexer": "ipython3",
   "version": "3.7.3"
  }
 },
 "nbformat": 4,
 "nbformat_minor": 2
}
