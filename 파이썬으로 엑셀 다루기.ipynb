{
 "cells": [
  {
   "cell_type": "markdown",
   "metadata": {},
   "source": [
    "#### 파이썬에서 다른 언어로 작성된 com 객체 생성"
   ]
  },
  {
   "cell_type": "code",
   "execution_count": 1,
   "metadata": {},
   "outputs": [],
   "source": [
    "import win32com.client\n",
    "\n",
    "explore=win32com.client.Dispatch(\"InternetExplorer.Application\")\n",
    "explore.visible=True\n",
    "\n",
    "# dispatch 함수가 호출되면 객체생성\n",
    "# explore라는 변수가 com 객체 바인딩"
   ]
  },
  {
   "cell_type": "markdown",
   "metadata": {},
   "source": [
    "### 엑셀파일에 쓰기"
   ]
  },
  {
   "cell_type": "code",
   "execution_count": 13,
   "metadata": {},
   "outputs": [],
   "source": [
    "import win32com.client\n",
    "\n",
    "excel=win32com.client.Dispatch('Excel.application') # 이때 이미 엑셀 실행되고 있음\n",
    "excel.Visible=True # 실행되고 있는 엑셀을 눈에 보이게 함\n",
    "wb=excel.Workbooks.Add()\n",
    "ws=wb.Worksheets(\"Sheet1\") # 엑셀 새 통합문서 완성됨\n",
    "# ws2=wb.Worksheets(\"Sheet2\") --예외발생\n",
    "ws.Cells(1,1).Value=\"hello world\" #통합문서 안의 가장 첫번째줄 첫째칸의 값을 helloworld로 하겠음\n",
    "wb.SaveAs(\"C:\\\\Users\\\\USER\\\\testweb.xlsx\")\n",
    "excel.Quit()"
   ]
  },
  {
   "cell_type": "markdown",
   "metadata": {},
   "source": [
    "### 엑셀파일 읽기"
   ]
  },
  {
   "cell_type": "code",
   "execution_count": 14,
   "metadata": {},
   "outputs": [
    {
     "name": "stdout",
     "output_type": "stream",
     "text": [
      "hello world\n"
     ]
    }
   ],
   "source": [
    "import win32com.client\n",
    "\n",
    "excel=win32com.client.Dispatch(\"Excel.Application\")\n",
    "excel.Visible=True\n",
    "wb=excel.Workbooks.Open(\"C:\\\\Users\\\\USER\\\\testweb.xlsx\")\n",
    "ws=wb.ActiveSheet\n",
    "print(ws.Cells(1,1).value)\n",
    "excel.Quit()"
   ]
  },
  {
   "cell_type": "markdown",
   "metadata": {},
   "source": [
    "### 엑셀파일 셀에 색깔 입히기"
   ]
  },
  {
   "cell_type": "code",
   "execution_count": 15,
   "metadata": {},
   "outputs": [],
   "source": [
    "import win32com.client\n",
    "\n",
    "excel=win32com.client.Dispatch(\"Excel.Application\")\n",
    "excel.Visible=True\n",
    "wb=excel.Workbooks.Open(\"C:\\\\Users\\\\USER\\\\testweb.xlsx\")\n",
    "ws=wb.ActiveSheet\n",
    "ws.Cells(1,2).value=\"is\"\n",
    "ws.Range(\"C1\").value=\"good\"\n",
    "ws.Range(\"C1\").Interior.ColorIndex=10\n",
    "\n",
    "## 결과 : b1셀에 is 추가, c1셀에 good추가 색상 초록색으로 변경\n",
    "## Interior.ColorIndex 에 해당하는 색은 인터넷 검색 ㄱㄱ"
   ]
  }
 ],
 "metadata": {
  "kernelspec": {
   "display_name": "Python 3",
   "language": "python",
   "name": "python3"
  },
  "language_info": {
   "codemirror_mode": {
    "name": "ipython",
    "version": 3
   },
   "file_extension": ".py",
   "mimetype": "text/x-python",
   "name": "python",
   "nbconvert_exporter": "python",
   "pygments_lexer": "ipython3",
   "version": "3.7.3"
  }
 },
 "nbformat": 4,
 "nbformat_minor": 2
}
