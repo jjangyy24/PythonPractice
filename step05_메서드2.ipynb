{
 "cells": [
  {
   "cell_type": "markdown",
   "metadata": {},
   "source": [
    "# Pandas\n",
    "#### Python 에서 엑셀 같은 표준 라이브러리"
   ]
  },
  {
   "cell_type": "code",
   "execution_count": 1,
   "metadata": {},
   "outputs": [
    {
     "name": "stdout",
     "output_type": "stream",
     "text": [
      "   name  kor  eng  mat\n",
      "0     A   80   80   80\n",
      "1     B  100   80   80\n",
      "2     C   80  100   55\n",
      "3     D   80   80   80\n",
      "4     E   80   55   55\n",
      "5     F   55   80   80\n",
      "6     G   80   80   80\n",
      "7     H   55   80  100\n",
      "8     I   80   80   80\n",
      "9     J   80   80  100\n",
      "10    K   80   80   80\n",
      "11    L   47   80   80\n",
      "12    M   80   80   80\n",
      "13    N  100   80   55\n",
      "14    O   80   80  100\n"
     ]
    }
   ],
   "source": [
    "import pandas as pd\n",
    "\n",
    "file='test.xlsx'\n",
    "xl=pd.ExcelFile(file)\n",
    "df=xl.parse('Sheet1')\n",
    "\n",
    "print(df)"
   ]
  },
  {
   "cell_type": "code",
   "execution_count": 2,
   "metadata": {},
   "outputs": [
    {
     "data": {
      "text/plain": [
       "(15, 4)"
      ]
     },
     "execution_count": 2,
     "metadata": {},
     "output_type": "execute_result"
    }
   ],
   "source": [
    "df.shape   # print 쓰면 out[2] 표시 안됨"
   ]
  },
  {
   "cell_type": "code",
   "execution_count": 4,
   "metadata": {},
   "outputs": [
    {
     "name": "stdout",
     "output_type": "stream",
     "text": [
      "Index(['name', 'kor', 'eng', 'mat'], dtype='object')\n"
     ]
    }
   ],
   "source": [
    "print(df.columns)"
   ]
  },
  {
   "cell_type": "code",
   "execution_count": 5,
   "metadata": {},
   "outputs": [
    {
     "name": "stdout",
     "output_type": "stream",
     "text": [
      "80\n"
     ]
    }
   ],
   "source": [
    "for index, row in df.iterrows(): #df.iterrows(): rows 반복문\n",
    "    name=row[0]\n",
    "    kor=row[1]\n",
    "    eng=row[2]\n",
    "    mat=row[3]\n",
    "print(eng)"
   ]
  },
  {
   "cell_type": "code",
   "execution_count": 6,
   "metadata": {},
   "outputs": [
    {
     "name": "stdout",
     "output_type": "stream",
     "text": [
      "['A', 'B', 'C', 'D', 'E', 'F', 'G', 'H', 'I', 'J', 'K', 'L', 'M', 'N', 'O']\n",
      "[80, 100, 80, 80, 80, 55, 80, 55, 80, 80, 80, 47, 80, 100, 80]\n",
      "[80, 80, 100, 80, 55, 80, 80, 80, 80, 80, 80, 80, 80, 80, 80]\n",
      "[80, 80, 55, 80, 55, 80, 80, 100, 80, 100, 80, 80, 80, 55, 100]\n"
     ]
    }
   ],
   "source": [
    "name=[]\n",
    "kor=[]\n",
    "eng=[]\n",
    "mat=[]\n",
    "for index, row in df.iterrows(): #df.iterrows(): rows 반복문\n",
    "    name.append(row[0])\n",
    "    kor.append(row[1])\n",
    "    eng.append(row[2])\n",
    "    mat.append(row[3])\n",
    "\n",
    "print(name)\n",
    "print(kor)\n",
    "print(eng)\n",
    "print(mat)"
   ]
  },
  {
   "cell_type": "code",
   "execution_count": 11,
   "metadata": {
    "scrolled": true
   },
   "outputs": [
    {
     "name": "stdout",
     "output_type": "stream",
     "text": [
      "   name  kor  eng  mat\n",
      "0     A   80   80   80\n",
      "1     B  100   80   80\n",
      "2     C   80  100   55\n",
      "3     D   80   80   80\n",
      "4     E   80   55   55\n",
      "5     F   55   80   80\n",
      "6     G   80   80   80\n",
      "7     H   55   80  100\n",
      "8     I   80   80   80\n",
      "9     J   80   80  100\n",
      "10    K   80   80   80\n",
      "11    L   47   80   80\n",
      "12    M   80   80   80\n",
      "13    N  100   80   55\n",
      "14    O   80   80  100\n"
     ]
    }
   ],
   "source": [
    "from pandas import DataFrame\n",
    "\n",
    "raw_data={\n",
    "    'name':name,\n",
    "    'kor':kor,\n",
    "    'eng':eng,\n",
    "    'mat':mat\n",
    "}\n",
    "\n",
    "data=DataFrame(raw_data)\n",
    "print(data)\n",
    "\n",
    "df.to_excel('test2.xlsx',sheet_name='Sheet2.xls',encoding='utf-8')"
   ]
  },
  {
   "cell_type": "code",
   "execution_count": 21,
   "metadata": {},
   "outputs": [
    {
     "name": "stdout",
     "output_type": "stream",
     "text": [
      "({'톰': 4358382, 'jack': 9465215, 'jim': 6851325, 'Joseph': 6584321}, ['string', 1234, 0.2345])\n"
     ]
    }
   ],
   "source": [
    "import pandas as pd\n",
    "\n",
    "phone={'톰':4358382, 'jack':9465215, 'jim':6851325, 'Joseph':6584321}\n",
    "list1=['string', 1234, 0.2345]\n",
    "Tuple=(phone,list1)            #리스트, 튜플,사전의 복합 객체\n",
    "\n",
    "f = open('pickle.txt', 'w', encoding='utf-8')    \n",
    "f.write(str(Tuple))\n",
    "f.close()\n",
    "\n",
    "#=============================\n",
    "f = open('pickle.txt',\"r\", encoding='utf-8')\n",
    "print(f.read())"
   ]
  },
  {
   "cell_type": "markdown",
   "metadata": {},
   "source": [
    "# 함수"
   ]
  },
  {
   "cell_type": "code",
   "execution_count": 15,
   "metadata": {},
   "outputs": [
    {
     "name": "stdout",
     "output_type": "stream",
     "text": [
      "5\n"
     ]
    }
   ],
   "source": [
    "#피보나치 수열을 구함\n",
    "n=1\n",
    "def fibonacci(n):\n",
    "    if n==1 or n==2:\n",
    "        return 1\n",
    "    else:\n",
    "        return fibonacci(n-1)+fibonacci(n-2)\n",
    "\n",
    "print(fibonacci(5))"
   ]
  },
  {
   "cell_type": "code",
   "execution_count": 16,
   "metadata": {},
   "outputs": [
    {
     "name": "stdout",
     "output_type": "stream",
     "text": [
      "<class 'tuple'> <class 'tuple'> <class 'tuple'>\n"
     ]
    }
   ],
   "source": [
    "t1 = ()      # 비어있는 튜플\n",
    "t2 = (1,2,3) # 괄호 사용\n",
    "\n",
    "t3 = 1,2,3   # 괄호가 없어도 튜플이 됨\n",
    "print(type(t1), type(t2), type(t3))"
   ]
  },
  {
   "cell_type": "code",
   "execution_count": 17,
   "metadata": {},
   "outputs": [
    {
     "name": "stdout",
     "output_type": "stream",
     "text": [
      "<class 'tuple'>\n",
      "<class 'tuple'>\n"
     ]
    }
   ],
   "source": [
    "r1 = (1,) # 자료가 한 개일 때는 반드시 콤마가 있어야 한다.\n",
    "r2 = 1,   # 괄호는 없어도 콤마는 있어야 한다.\n",
    "print(type(r1))\n",
    "print(type(r2))"
   ]
  },
  {
   "cell_type": "code",
   "execution_count": 18,
   "metadata": {},
   "outputs": [
    {
     "name": "stdout",
     "output_type": "stream",
     "text": [
      "(1, 2, 3, 1, 2, 3)\n",
      "(1, 2, 3, 'PyKUG', 'users')\n",
      "(1, 2, 3)\n",
      "\n",
      "1 (2, 3)\n",
      "3\n",
      "True\n"
     ]
    }
   ],
   "source": [
    "t = (1, 2, 3)\n",
    "print(t * 2)                  # 반복\n",
    "print(t + ('PyKUG', 'users'))  # 연결\n",
    "print(t)\n",
    "print()\n",
    "\n",
    "print(t[0], t[1:3])            # 인덱싱, 슬라이싱\n",
    "print(len(t))                  # 길이\n",
    "print(1 in t)                  # 멤버십 테스트"
   ]
  },
  {
   "cell_type": "code",
   "execution_count": 19,
   "metadata": {},
   "outputs": [
    {
     "name": "stdout",
     "output_type": "stream",
     "text": [
      "<class 'int'> <class 'int'> <class 'int'>\n",
      "1\n",
      "2\n",
      "3\n"
     ]
    }
   ],
   "source": [
    "x, y, z = 1, 2, 3 # 튜플을 이용한 복수 개의 자료 할당\n",
    "print(type(x), type(y), type(z))\n",
    "print(x)\n",
    "print(y)\n",
    "print(z)"
   ]
  },
  {
   "cell_type": "code",
   "execution_count": 1,
   "metadata": {},
   "outputs": [
    {
     "name": "stdout",
     "output_type": "stream",
     "text": [
      "[1, 2, 3, 4, 5]\n",
      "[100, 2, 3, 4, 5]\n",
      "(100, 2, 3, 4, 5)\n",
      "<class 'list'>\n",
      "<class 'tuple'>\n"
     ]
    }
   ],
   "source": [
    "T = (1, 2, 3, 4, 5)\n",
    "L = list(T)\n",
    "print(L)\n",
    "L[0] = 100\n",
    "print(L)\n",
    "\n",
    "T = tuple(L)\n",
    "print(T)\n",
    "print(type(L))\n",
    "print(type(T))"
   ]
  },
  {
   "cell_type": "code",
   "execution_count": 2,
   "metadata": {},
   "outputs": [
    {
     "name": "stdout",
     "output_type": "stream",
     "text": [
      "(9, 20)\n",
      "5 4\n"
     ]
    }
   ],
   "source": [
    "def calc(a,b):\n",
    "    return a+b, a*b\n",
    "print(calc(5,4))\n",
    "\n",
    "x,y=(5,4)\n",
    "print(x,y)"
   ]
  },
  {
   "cell_type": "code",
   "execution_count": 3,
   "metadata": {},
   "outputs": [
    {
     "name": "stdout",
     "output_type": "stream",
     "text": [
      "set()\n",
      "{1, 2, 3, 4, 5}\n",
      "{1, 2, 3, 4}\n",
      "{'b', 'c', 'a'}\n",
      "{(4, 5, 6), (1, 2, 3)}\n"
     ]
    }
   ],
   "source": [
    "print(set())                         # 빈 set 객체 생성\n",
    "print(set([1, 2, 3, 4, 5]))         # 초기 값은 일반적으로 시퀀스 자료형인 리스트를 넣어준다.\n",
    "print(set([1, 2, 3, 2, 3, 4]))      # 중복된 원소는 한 나만 저장됨\n",
    "print(set('abc'))                  # 문자열은 각 문자를 집합 원소로 지닌다.  \n",
    "print(set([(1, 2, 3), (4, 5, 6)]))  # 각 튜플은 원소로 가질 수 있음 \n",
    "#print(set([[1, 2, 3], [4, 5, 6]]))  # 변경 가능 자료인 리스트는 집합의 원소가 될 수 없다."
   ]
  },
  {
   "cell_type": "code",
   "execution_count": 4,
   "metadata": {},
   "outputs": [
    {
     "name": "stdout",
     "output_type": "stream",
     "text": [
      "{'basketball': 5, 'soccer': 11, 'baseball': 9, 'volleyball': 6}\n",
      "4\n"
     ]
    }
   ],
   "source": [
    "member = {'basketball': 5, 'soccer': 11, 'baseball': 9}\n",
    "member['volleyball'] = 7 # 새로운 아이템 설정\n",
    "member['volleyball'] = 6 # 변경\n",
    "print(member)\n",
    "print(len(member))        # 아이템의 개수 반환 "
   ]
  },
  {
   "cell_type": "code",
   "execution_count": 5,
   "metadata": {},
   "outputs": [
    {
     "name": "stdout",
     "output_type": "stream",
     "text": [
      "{'soccer': 11, 'baseball': 9}\n"
     ]
    }
   ],
   "source": [
    "member = {'basketball':5, 'soccer':11, 'baseball':9}\n",
    "del member['basketball'] # 항목 삭제\n",
    "print(member)"
   ]
  },
  {
   "cell_type": "code",
   "execution_count": 6,
   "metadata": {},
   "outputs": [
    {
     "name": "stdout",
     "output_type": "stream",
     "text": [
      "9\n",
      "-1\n"
     ]
    }
   ],
   "source": [
    "def add(a, b):\n",
    "    return a + b\n",
    "\n",
    "def sub(a, b):\n",
    "    return a - b\n",
    "\n",
    "action = {0: add, 1: sub}   # 함수 이름을 사전의 값으로 사용\n",
    "print(action[0](4, 5))\n",
    "print(action[1](4, 5))"
   ]
  },
  {
   "cell_type": "code",
   "execution_count": 7,
   "metadata": {},
   "outputs": [
    {
     "name": "stdout",
     "output_type": "stream",
     "text": [
      "1\n"
     ]
    }
   ],
   "source": [
    "action2 = {add: 1, sub: 2}  # 함수 이름을 사전의 키로 사용\n",
    "print(action2[add])"
   ]
  },
  {
   "cell_type": "code",
   "execution_count": 8,
   "metadata": {},
   "outputs": [
    {
     "name": "stdout",
     "output_type": "stream",
     "text": [
      "<class 'dict'>\n",
      "\n",
      "{'one': 1, 'two': 2}\n",
      "{'one': 1, 'two': 2}\n",
      "{'one': 1, 'two': 2}\n"
     ]
    }
   ],
   "source": [
    "#사전 만들기\n",
    "d = dict()\n",
    "print(type(d))\n",
    "print()\n",
    "\n",
    "print(dict(one=1, two=2))\n",
    "print(dict([('one', 1), ('two', 2)]))\n",
    "print(dict({'one':1, 'two':2}))"
   ]
  },
  {
   "cell_type": "code",
   "execution_count": 9,
   "metadata": {},
   "outputs": [
    {
     "name": "stdout",
     "output_type": "stream",
     "text": [
      "1\n"
     ]
    }
   ],
   "source": [
    "d={'one':1}\n",
    "print(d['one'])"
   ]
  },
  {
   "cell_type": "code",
   "execution_count": 10,
   "metadata": {},
   "outputs": [
    {
     "name": "stdout",
     "output_type": "stream",
     "text": [
      "<zip object at 0x00000180B0508FC8>\n",
      "{'one': 1, 'two': 2, 'three': 3}\n"
     ]
    }
   ],
   "source": [
    "keys = ['one', 'two', 'three']\n",
    "values = (1, 2, 3)\n",
    "print(zip(keys, values)) \n",
    "print(dict(zip(keys, values)))"
   ]
  },
  {
   "cell_type": "code",
   "execution_count": 11,
   "metadata": {},
   "outputs": [
    {
     "name": "stdout",
     "output_type": "stream",
     "text": [
      "dict_keys(['jack', 'jin', 'Joseph'])\n",
      "dict_values([9465215, 1111, 6584321])\n",
      "dict_items([('jack', 9465215), ('jin', 1111), ('Joseph', 6584321)])\n",
      "\n",
      "True\n",
      "False\n"
     ]
    }
   ],
   "source": [
    "# 사전 메서드 : keys() , values(), items() \n",
    "phone = {'jack': 9465215, 'jin': 1111, 'Joseph': 6584321}\n",
    "\n",
    "print(phone.keys()) \n",
    "print(phone.values()) \n",
    "print(phone.items())\n",
    "print()\n",
    "print('jack' in phone) # 'jack'이 phone의 키에 포함되어 있는가?\n",
    "print('lee' in phone)"
   ]
  },
  {
   "cell_type": "code",
   "execution_count": 12,
   "metadata": {},
   "outputs": [
    {
     "name": "stdout",
     "output_type": "stream",
     "text": [
      "{'a': [1, 2, 3], 'b': 4}\n",
      "{'a': [1, 2, 3], 'b': 4}\n",
      "\n",
      "{'a': [1, 2, 3], 'b': 100}\n",
      "{'a': [1, 2, 3], 'b': 4}\n",
      "\n",
      "{'a': [100, 2, 3], 'b': 100}\n",
      "{'a': [100, 2, 3], 'b': 4}\n"
     ]
    }
   ],
   "source": [
    "phone = {'a': [1,2,3], 'b': 4}\n",
    "phone2 = phone.copy()\n",
    "print(phone)\n",
    "print(phone2)\n",
    "print()\n",
    "\n",
    "phone['b'] = 100\n",
    "print(phone)\n",
    "print(phone2)\n",
    "print()\n",
    "\n",
    "phone['a'][0] = 100\n",
    "print(phone)\n",
    "print(phone2)"
   ]
  },
  {
   "cell_type": "code",
   "execution_count": 13,
   "metadata": {},
   "outputs": [
    {
     "name": "stdout",
     "output_type": "stream",
     "text": [
      "9465215\n",
      "None\n"
     ]
    }
   ],
   "source": [
    "ph = {'jack': 9465215, 'jin': 1111, 'Joseph': 6584321}\n",
    "\n",
    "print(ph.get('jack'))  # 'jack'에 대한 값을 얻는다. ph['jack']과 같다.\n",
    "print(ph.get('gslee')) # 'gslee'에 대한 값을 얻는다. 값이 없는 경우 None반환"
   ]
  },
  {
   "cell_type": "code",
   "execution_count": 14,
   "metadata": {},
   "outputs": [
    {
     "name": "stdout",
     "output_type": "stream",
     "text": [
      "a\n",
      "b\n",
      "c\n",
      "1\n",
      "2\n",
      "3\n",
      "('a', 1)\n",
      "('b', 2)\n",
      "('c', 3)\n"
     ]
    }
   ],
   "source": [
    "D = {'a':1, 'b':2, 'c':3}\n",
    "for key in D.keys():\n",
    "    #print(key, D[key])\n",
    "    print(key)\n",
    "    \n",
    "for key in D.values():\n",
    "    print(key)\n",
    "\n",
    "for key in D.items():\n",
    "    print(key)    "
   ]
  },
  {
   "cell_type": "code",
   "execution_count": 15,
   "metadata": {},
   "outputs": [
    {
     "name": "stdout",
     "output_type": "stream",
     "text": [
      "{'1': 4, '2': 2, '4': 3, '3': 2}\n"
     ]
    }
   ],
   "source": [
    "L=['1','1','2','3','1','4','4','2','4','1','3']\n",
    "L2=set(L)\n",
    "dic={}\n",
    "for i in L2:\n",
    "    cnt=0\n",
    "    for j in L:\n",
    "        if(i==j):\n",
    "            cnt +=1\n",
    "            dic[i]=cnt\n",
    "print(dic)     "
   ]
  },
  {
   "cell_type": "code",
   "execution_count": 16,
   "metadata": {},
   "outputs": [
    {
     "name": "stdout",
     "output_type": "stream",
     "text": [
      "{32, 34, 35, 11, 12, 16}\n"
     ]
    }
   ],
   "source": [
    "#로또 난수번호 생성\n",
    "import random\n",
    "lotto = []\n",
    "while(len(lotto) < 6 ):\n",
    "    lotto = set([random.randrange(1, 46, 1) for k in range(6)])\n",
    "    \n",
    "#print(sorted(lotto))\n",
    "print(lotto)"
   ]
  },
  {
   "cell_type": "code",
   "execution_count": 17,
   "metadata": {},
   "outputs": [
    {
     "name": "stdout",
     "output_type": "stream",
     "text": [
      "[19, 21, 27, 28, 36, 37]\n"
     ]
    }
   ],
   "source": [
    "L = []\n",
    "while(1):\n",
    "    if (len(L) == 6):\n",
    "        break\n",
    "    tmp_num = random.randrange(1,46,1)\n",
    "    if (tmp_num not in L):\n",
    "        L.append(tmp_num)\n",
    "print(sorted(L))"
   ]
  },
  {
   "cell_type": "code",
   "execution_count": 18,
   "metadata": {},
   "outputs": [
    {
     "name": "stdout",
     "output_type": "stream",
     "text": [
      "2\n",
      "12\n"
     ]
    }
   ],
   "source": [
    "def incr(a, step=1):\n",
    "    return a + step\n",
    "\n",
    "b = 1\n",
    "b = incr(b)     # 1 증가\n",
    "print(b)\n",
    "\n",
    "b = incr(b, 10) # 10 증가\n",
    "print(b)"
   ]
  },
  {
   "cell_type": "code",
   "execution_count": 19,
   "metadata": {},
   "outputs": [
    {
     "name": "stdout",
     "output_type": "stream",
     "text": [
      "60\n"
     ]
    }
   ],
   "source": [
    "def incr(a, step=1, step2=10):\n",
    "    return a+step+step2\n",
    "\n",
    "print(incr(step=10, a=20, step2=30))"
   ]
  },
  {
   "cell_type": "code",
   "execution_count": 20,
   "metadata": {},
   "outputs": [
    {
     "name": "stdout",
     "output_type": "stream",
     "text": [
      "1 2 3\n"
     ]
    }
   ],
   "source": [
    "def h(a, b, c):\n",
    "    print(a,b,c)\n",
    "    \n",
    "args = (1, 2, 3)\n",
    "h(*args)"
   ]
  },
  {
   "cell_type": "code",
   "execution_count": 22,
   "metadata": {},
   "outputs": [
    {
     "name": "stdout",
     "output_type": "stream",
     "text": [
      "1 2 3\n",
      "1 2 3\n"
     ]
    }
   ],
   "source": [
    "def h(a, b, c):\n",
    "    print(a,b,c)\n",
    "    \n",
    "dargs = {'a':1, 'b':2, 'c':3}\n",
    "h(dargs['a'],dargs['b'],dargs['c'])\n",
    "h(**dargs)"
   ]
  },
  {
   "cell_type": "code",
   "execution_count": 23,
   "metadata": {},
   "outputs": [
    {
     "name": "stdout",
     "output_type": "stream",
     "text": [
      "2\n",
      "2\n"
     ]
    }
   ],
   "source": [
    "f = lambda x: x + 1\n",
    "print(f(1))\n",
    "\n",
    "def f2(x):\n",
    "    return x+1\n",
    "print(f2(1))"
   ]
  },
  {
   "cell_type": "code",
   "execution_count": 24,
   "metadata": {},
   "outputs": [
    {
     "name": "stdout",
     "output_type": "stream",
     "text": [
      "3\n"
     ]
    }
   ],
   "source": [
    "g = lambda x, y: x + y\n",
    "print(g(1, 2))"
   ]
  },
  {
   "cell_type": "code",
   "execution_count": 25,
   "metadata": {},
   "outputs": [
    {
     "name": "stdout",
     "output_type": "stream",
     "text": [
      "[60, 44, 30, 18, 8, 0, -6, -10, -12, -12, -10, -6, 0, 8, 18, 30, 44, 60, 78, 98]\n",
      "[-1000, -729, -512, -343, -216, -125, -64, -27, -8, -1, 0, 1, 8, 27, 64, 125, 216, 343, 512, 729]\n"
     ]
    }
   ],
   "source": [
    "def f1(x):\n",
    "    return x*x + 3*x - 10\n",
    "\n",
    "def f2(x):\n",
    "    return x*x*x\n",
    "\n",
    "def g(func):\n",
    "    return [func(x) for x in range(-10, 10)]\n",
    "\n",
    "print(g(f1))\n",
    "print(g(f2))"
   ]
  },
  {
   "cell_type": "code",
   "execution_count": 26,
   "metadata": {},
   "outputs": [
    {
     "name": "stdout",
     "output_type": "stream",
     "text": [
      "[60, 44, 30, 18, 8, 0, -6, -10, -12, -12, -10, -6, 0, 8, 18, 30, 44, 60, 78, 98]\n",
      "[-1000, -729, -512, -343, -216, -125, -64, -27, -8, -1, 0, 1, 8, 27, 64, 125, 216, 343, 512, 729]\n"
     ]
    }
   ],
   "source": [
    "#Lambda \n",
    "def g(func):\n",
    "    return [func(x) for x in range(-10, 10)]\n",
    "\n",
    "print(g(lambda x: x*x + 3*x - 10))\n",
    "print(g(lambda x: x*x*x))"
   ]
  },
  {
   "cell_type": "code",
   "execution_count": 28,
   "metadata": {},
   "outputs": [],
   "source": [
    "func_list = [\n",
    "    lambda x, y: int(x) + int(y), \n",
    "    lambda x, y: int(x) - int(y), \n",
    "    lambda x, y: int(x) * int(y), \n",
    "    lambda x, y: int(x) / int(y)\n",
    "]"
   ]
  },
  {
   "cell_type": "code",
   "execution_count": 29,
   "metadata": {},
   "outputs": [
    {
     "name": "stdout",
     "output_type": "stream",
     "text": [
      "<class 'map'>\n"
     ]
    }
   ],
   "source": [
    "def f(x):\n",
    "    return x * x\n",
    "\n",
    "X = [1, 2, 3, 4, 5]\n",
    "m = map(f, X)\n",
    "print(type(m))"
   ]
  },
  {
   "cell_type": "code",
   "execution_count": 30,
   "metadata": {},
   "outputs": [
    {
     "name": "stdout",
     "output_type": "stream",
     "text": [
      "(1, 4, 9, 16, 25)\n"
     ]
    }
   ],
   "source": [
    "X = [1, 2, 3, 4, 5]\n",
    "print(tuple(map(lambda x: x * x ,X)))"
   ]
  },
  {
   "cell_type": "code",
   "execution_count": 31,
   "metadata": {},
   "outputs": [
    {
     "name": "stdout",
     "output_type": "stream",
     "text": [
      "(1, 4, 9, 16, 25)\n"
     ]
    }
   ],
   "source": [
    "X = [1, 2, 3, 4, 5]\n",
    "print(tuple(map(f,X)))\n",
    "\n",
    "def f(x):\n",
    "    return x*x"
   ]
  },
  {
   "cell_type": "code",
   "execution_count": 32,
   "metadata": {},
   "outputs": [
    {
     "name": "stdout",
     "output_type": "stream",
     "text": [
      "(5, 6, 11)\n"
     ]
    }
   ],
   "source": [
    "y = tuple(map(lambda x: len(x), [\"Hello\", \"Python\", \"Programming\"]))\n",
    "print(y)"
   ]
  },
  {
   "cell_type": "code",
   "execution_count": 40,
   "metadata": {},
   "outputs": [
    {
     "name": "stdout",
     "output_type": "stream",
     "text": [
      "(<function f at 0x00000180B059E9D8>, ['Hello', 'Python', 'Programming'])\n"
     ]
    }
   ],
   "source": [
    "X=[\"Hello\", \"Python\", \"Programming\"]\n",
    "print(tuple((f,X)))\n",
    "\n",
    "def f(x):\n",
    "    return len(x)"
   ]
  },
  {
   "cell_type": "code",
   "execution_count": 36,
   "metadata": {},
   "outputs": [
    {
     "name": "stdout",
     "output_type": "stream",
     "text": [
      "(1, 3, 5)\n"
     ]
    }
   ],
   "source": [
    "print(tuple(filter(lambda x: x % 2, [1, 2, 3, 4, 5, 6])))"
   ]
  },
  {
   "cell_type": "code",
   "execution_count": 38,
   "metadata": {},
   "outputs": [
    {
     "name": "stdout",
     "output_type": "stream",
     "text": [
      "(<function f at 0x00000180B059E620>, [1, 2, 3, 4, 5, 6])\n"
     ]
    }
   ],
   "source": [
    "y=[1, 2, 3, 4, 5, 6]\n",
    "print((f, y))\n",
    "\n",
    "def f(y):\n",
    "    return (y%2==0)"
   ]
  },
  {
   "cell_type": "code",
   "execution_count": 41,
   "metadata": {},
   "outputs": [
    {
     "name": "stdout",
     "output_type": "stream",
     "text": [
      "[1, 2, '3', 4, 5, '6', 7, 8, '9', 10]\n"
     ]
    }
   ],
   "source": [
    "x=[1,2,3,4,5,6,7,8,9,10]\n",
    "def f(x):\n",
    "    if (x%3==0):\n",
    "        return str(x)\n",
    "    else:\n",
    "        return x\n",
    "     \n",
    "arr=[]\n",
    "for i in x:\n",
    "    arr.append((f(i)))\n",
    "\n",
    "#print(arr)\n",
    "\n",
    "\n",
    "print(list(map(lambda x:str(x) if x%3==0 else x, x)))"
   ]
  },
  {
   "cell_type": "code",
   "execution_count": 42,
   "metadata": {},
   "outputs": [
    {
     "name": "stdout",
     "output_type": "stream",
     "text": [
      "[1, 2, '3', 4, 5, '6', 7, 8, '9', 10]\n"
     ]
    }
   ],
   "source": [
    "def f(x):\n",
    "    return str(x)\n",
    "     \n",
    "arr=[]\n",
    "for i in [1,2,3,4,5,6,7,8,9,10]:\n",
    "    if (i%3==0):\n",
    "        arr.append(f(i))\n",
    "    else:\n",
    "        arr.append(i)\n",
    "\n",
    "print(arr)"
   ]
  },
  {
   "cell_type": "code",
   "execution_count": 43,
   "metadata": {},
   "outputs": [
    {
     "name": "stdout",
     "output_type": "stream",
     "text": [
      "(3, 6, 9)\n"
     ]
    }
   ],
   "source": [
    "print(tuple(filter(lambda x: x%3==0, [1,2,3,4,5,6,7,8,9,10])))"
   ]
  },
  {
   "cell_type": "code",
   "execution_count": 44,
   "metadata": {},
   "outputs": [
    {
     "name": "stdout",
     "output_type": "stream",
     "text": [
      "G(): 20\n",
      "F(): 1\n",
      "Global: 2\n"
     ]
    }
   ],
   "source": [
    "x = 2\n",
    "def F():\n",
    "    x = 1\n",
    "    def G():\n",
    "        x = 20\n",
    "        print(\"G():\", x)\n",
    "    G()\n",
    "    print(\"F():\", x)\n",
    "F()\n",
    "print(\"Global:\", x)"
   ]
  },
  {
   "cell_type": "code",
   "execution_count": 45,
   "metadata": {},
   "outputs": [
    {
     "name": "stdout",
     "output_type": "stream",
     "text": [
      "9\n"
     ]
    }
   ],
   "source": [
    "import abc\n",
    "\n",
    "print(add(4,5))"
   ]
  }
 ],
 "metadata": {
  "kernelspec": {
   "display_name": "Python 3",
   "language": "python",
   "name": "python3"
  },
  "language_info": {
   "codemirror_mode": {
    "name": "ipython",
    "version": 3
   },
   "file_extension": ".py",
   "mimetype": "text/x-python",
   "name": "python",
   "nbconvert_exporter": "python",
   "pygments_lexer": "ipython3",
   "version": "3.7.3"
  }
 },
 "nbformat": 4,
 "nbformat_minor": 2
}
