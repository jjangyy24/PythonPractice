{
 "cells": [
  {
   "cell_type": "markdown",
   "metadata": {},
   "source": [
    "- 자료형(튜플,리스트,사전)"
   ]
  },
  {
   "cell_type": "code",
   "execution_count": 1,
   "metadata": {},
   "outputs": [
    {
     "name": "stdout",
     "output_type": "stream",
     "text": [
      "1 Great\n",
      "[2, 'Great'] [1, 2, 'Great']\n",
      "\n"
     ]
    }
   ],
   "source": [
    "a = []\n",
    "a = [1, 2, \"Great\"]\n",
    "print(a[0], a[-1]) #a[-1] :뒤에서 출력\n",
    "print(a[1:3], a[:]) #a[:] : a리스트 전부출력\n",
    "print()"
   ]
  },
  {
   "cell_type": "code",
   "execution_count": 2,
   "metadata": {},
   "outputs": [
    {
     "name": "stdout",
     "output_type": "stream",
     "text": [
      "1\n",
      "['a', ['x', 'y'], 'b']\n",
      "['x', 'y']\n",
      "y\n"
     ]
    }
   ],
   "source": [
    "a = [1, ['a', ['x', 'y'], 'b'], 3]\n",
    "print(a[0])\n",
    "print(a[1])\n",
    "print(a[1][1])\n",
    "print(a[1][1][1])"
   ]
  },
  {
   "cell_type": "code",
   "execution_count": 3,
   "metadata": {},
   "outputs": [
    {
     "name": "stdout",
     "output_type": "stream",
     "text": [
      "name = one , num = 1\n",
      "name = two , num = 2\n",
      "name = three , num = 3\n"
     ]
    }
   ],
   "source": [
    "lt = [('one', 1), ('two', 2), ('three', 3)]\n",
    "for t in lt:\n",
    "    print('name =', t[0] ,', num =', t[1])"
   ]
  },
  {
   "cell_type": "markdown",
   "metadata": {},
   "source": [
    "- 자주 쓰이는 함수"
   ]
  },
  {
   "cell_type": "code",
   "execution_count": 5,
   "metadata": {},
   "outputs": [
    {
     "name": "stdout",
     "output_type": "stream",
     "text": [
      "I Like Programming\n",
      "I like programming\n"
     ]
    }
   ],
   "source": [
    "s=\"i like programming\"\n",
    "print(s.title())           #단어의 첫 문자를 대문자로 변환\n",
    "print(s.capitalize())      #문장의 첫 문자를 대문자로 변환"
   ]
  },
  {
   "cell_type": "code",
   "execution_count": 6,
   "metadata": {},
   "outputs": [
    {
     "name": "stdout",
     "output_type": "stream",
     "text": [
      "[20, 30, 40, 50]\n",
      "[10, 30, 20, 40, 50]\n",
      "[10, 30, 20, 40, 50, 60, 70]\n",
      "[10, 30, 20, 40, 50, 60, 70, [60, 70]]\n"
     ]
    }
   ],
   "source": [
    "s = [10, 20, 30, 40, 50]\n",
    "s.remove(10) # 자료 값 10 삭제\n",
    "print(s)\n",
    "\n",
    "s = [10, 20, 30, 20, 40, 50] # 자료 값이 여러개 존재하면 첫번째 것만 삭제\n",
    "s.remove(20)\n",
    "print(s)\n",
    "\n",
    "s.extend([60, 70]) # 새로운 리스트([60, 70]를 기존 리스트 s 뒤에 병합\n",
    "print(s)\n",
    "\n",
    "s.append([60, 70]) # 주의: append로 새로운 리스트를 추가하면 하나의 자료 요소로서 추가\n",
    "print(s)"
   ]
  },
  {
   "cell_type": "code",
   "execution_count": 7,
   "metadata": {},
   "outputs": [
    {
     "name": "stdout",
     "output_type": "stream",
     "text": [
      "[10, 20, 30, 40, 50, 60]\n",
      "60\n",
      "[10, 20, 30, 40, 50]\n"
     ]
    }
   ],
   "source": [
    "s = [10, 20, 30, 40, 50]\n",
    "s.append(60)\n",
    "print(s)\n",
    "\n",
    "print(s.pop()) #마지막 인자를 뽑음 \n",
    "print(s)"
   ]
  },
  {
   "cell_type": "code",
   "execution_count": 8,
   "metadata": {},
   "outputs": [
    {
     "name": "stdout",
     "output_type": "stream",
     "text": [
      "10\n",
      "[20, 30, 40, 50]\n",
      "30\n",
      "[20, 40, 50]\n"
     ]
    }
   ],
   "source": [
    "s = [10, 20, 30, 40, 50]\n",
    "print(s.pop(0))   #0 번째 인덱스 값을 꺼낸다.\n",
    "print(s)\n",
    "\n",
    "print(s.pop(1))   #1 번째 인덱스 값을 꺼낸다.\n",
    "print(s)"
   ]
  },
  {
   "cell_type": "code",
   "execution_count": 9,
   "metadata": {},
   "outputs": [
    {
     "name": "stdout",
     "output_type": "stream",
     "text": [
      "[('jung', 10, 36), ('kim', 3, 28), ('lee', 5, 38)]\n"
     ]
    }
   ],
   "source": [
    "L=[('lee',5,38),('kim',3,28),('jung',10,36)]\n",
    "L.sort() #첫번째 원소 기준으로 정렬\n",
    "print(L)"
   ]
  },
  {
   "cell_type": "code",
   "execution_count": 10,
   "metadata": {},
   "outputs": [
    {
     "name": "stdout",
     "output_type": "stream",
     "text": [
      "sorted by name: [('jung', 10, 36), ('kim', 3, 28), ('lee', 5, 38)]\n",
      "sorted by experience: [('kim', 3, 28), ('lee', 5, 38), ('jung', 10, 36)]\n"
     ]
    }
   ],
   "source": [
    "L = [('lee', 5, 38), ('kim', 3, 28), ('jung', 10, 36)]\n",
    "def cmp_by_each_element(a):   # 사용자 정의 함수(cmp_by_each_element)\n",
    "    return a[1]               # 2번째 key로 sort 하시오\n",
    "\n",
    "L.sort()\n",
    "print('sorted by name:', L)\n",
    "\n",
    "L.sort(key=cmp_by_each_element)  # key=cmp_by_each_element, reverse=True  ==> 내림차순 정렬\n",
    "print('sorted by experience:', L)"
   ]
  },
  {
   "cell_type": "code",
   "execution_count": 11,
   "metadata": {},
   "outputs": [
    {
     "name": "stdout",
     "output_type": "stream",
     "text": [
      "sorted: ['53', '889', '12341']\n"
     ]
    }
   ],
   "source": [
    "L=[\"12341\",\"53\",\"889\"]\n",
    "L.sort(key=int)\n",
    "print(\"sorted:\", L)"
   ]
  },
  {
   "cell_type": "code",
   "execution_count": 12,
   "metadata": {},
   "outputs": [
    {
     "name": "stdout",
     "output_type": "stream",
     "text": [
      "[9, 8, 6, 6, 3, 2, 1]\n"
     ]
    }
   ],
   "source": [
    "L = [1, 6, 3, 8, 6, 2, 9]\n",
    "L.sort(reverse=True)     # L.sort(reverse = 1)\n",
    "print(L)"
   ]
  },
  {
   "cell_type": "markdown",
   "metadata": {},
   "source": [
    "- 람다식"
   ]
  },
  {
   "cell_type": "code",
   "execution_count": 13,
   "metadata": {},
   "outputs": [
    {
     "name": "stdout",
     "output_type": "stream",
     "text": [
      "[0, 1, 4, 9, 16, 25, 36, 49, 64, 81]\n",
      "[0, 1, 4, 9, 16, 25, 36, 49, 64, 81]\n"
     ]
    }
   ],
   "source": [
    "L=[]\n",
    "for k in range(10):\n",
    "    L.append(k*k)\n",
    "print(L)\n",
    "\n",
    "# 람다식\n",
    "print([k*k for k in range(10)])"
   ]
  },
  {
   "cell_type": "code",
   "execution_count": 14,
   "metadata": {},
   "outputs": [
    {
     "name": "stdout",
     "output_type": "stream",
     "text": [
      "[1, 9, 25, 49, 81]\n",
      "[1, 9, 25, 49, 81]\n"
     ]
    }
   ],
   "source": [
    "L=[]\n",
    "for k in range(10): #k-- range 범위안의 키값\n",
    "    if k%2:\n",
    "        L.append(k*k)\n",
    "print(L)     \n",
    "\n",
    "# 람다식\n",
    "print([k* k for k in range(10) if k%2])"
   ]
  },
  {
   "cell_type": "code",
   "execution_count": 15,
   "metadata": {},
   "outputs": [
    {
     "name": "stdout",
     "output_type": "stream",
     "text": [
      "[('a', 1), ('a', 2), ('a', 3), ('b', 1), ('b', 2), ('b', 3), ('c', 1), ('c', 2), ('c', 3)]\n",
      "[('a', 1), ('a', 2), ('a', 3), ('b', 1), ('b', 2), ('b', 3), ('c', 1), ('c', 2), ('c', 3)]\n"
     ]
    }
   ],
   "source": [
    "seq1 = 'abc'\n",
    "seq2 = (1, 2, 3)\n",
    "L=[]\n",
    "for x in seq1:\n",
    "    for y in seq2:\n",
    "        L.append((x,y))\n",
    "print(L)     \n",
    "\n",
    "# 람다식\n",
    "print([(x, y) for x in seq1 for y in seq2])"
   ]
  },
  {
   "cell_type": "code",
   "execution_count": 19,
   "metadata": {},
   "outputs": [
    {
     "name": "stdout",
     "output_type": "stream",
     "text": [
      "[(3, 4, 5), (5, 12, 13), (6, 8, 10), (7, 24, 25), (8, 15, 17), (9, 12, 15), (10, 24, 26), (12, 16, 20), (15, 20, 25), (20, 21, 29)]\n",
      "[(3, 4, 5), (5, 12, 13), (6, 8, 10), (7, 24, 25), (8, 15, 17), (9, 12, 15), (10, 24, 26), (12, 16, 20), (15, 20, 25), (20, 21, 29)]\n"
     ]
    }
   ],
   "source": [
    "# [문제]\n",
    "#피타고라스 삼각형의 각 3변의 길이 리스트\n",
    "#조건: 각변의 x,y,z의 길이는 30보다 작아야 하며 x<=y<=z이어야 함\n",
    "\n",
    "#람다식\n",
    "k=[(x,y,z) \n",
    "   for x in range(1,30) \n",
    "      for y in range(x,30) \n",
    "        for z in range(y,30)\n",
    "          if x**2 + y**2==z**2]\n",
    "print(k)\n",
    "\n",
    "#일반 제어문\n",
    "L=[]\n",
    "for x in range(1,30):\n",
    "    for y in range(x,30):\n",
    "        for z in range(y,30):\n",
    "            if x*x+y*y==z*z: #x**2 == x*x(x의 제곱)\n",
    "                L.append((x,y,z))\n",
    "print(L)  "
   ]
  },
  {
   "cell_type": "markdown",
   "metadata": {},
   "source": [
    "- 파일 입출력"
   ]
  },
  {
   "cell_type": "code",
   "execution_count": 20,
   "metadata": {},
   "outputs": [],
   "source": [
    "s=\"\"\"파이썬에서 제공하는 문자열 메서드는 여러 가지가 있는데 \n",
    "여기서는 자주 쓰는 메서드를 설명하겠습니다.\"\"\"\n",
    "f=open(\"t.txt\", 'w')  # w: write(기록)\n",
    "f.write(s)\n",
    "f.close()"
   ]
  },
  {
   "cell_type": "code",
   "execution_count": 21,
   "metadata": {},
   "outputs": [
    {
     "name": "stdout",
     "output_type": "stream",
     "text": [
      "파이썬에서 제공하는 문자열 메서드는 여러 가지가 있는데 \n",
      "여기서는 자주 쓰는 메서드를 설명하겠습니다.\n"
     ]
    }
   ],
   "source": [
    "f=open(\"t.txt\", 'r')  # r: read\n",
    "s=f.read()\n",
    "print(s)\n",
    "f.close()"
   ]
  },
  {
   "cell_type": "code",
   "execution_count": 22,
   "metadata": {},
   "outputs": [],
   "source": [
    "s = \"\"\"Its power: Python developers typically report \n",
    "they are able to develop applications in a half\n",
    "to a tenth the amount of time it takes them to do\n",
    "the same work in such languages as C.\"\"\"\n",
    "with open('t2.txt', 'w') as f: \n",
    "    #with as : 파일을 열고 인터프리터가 자동으로 구문 끝나면 마무리해줌\n",
    "    f.write(s) # 문자열을 파일에 기록"
   ]
  },
  {
   "cell_type": "code",
   "execution_count": 23,
   "metadata": {},
   "outputs": [
    {
     "name": "stdout",
     "output_type": "stream",
     "text": [
      "Its power: Python developers typically report \n",
      "they are able to develop applications in a half\n",
      "to a tenth the amount of time it takes them to do\n",
      "the same work in such languages as C.\n",
      "<class 'str'>\n"
     ]
    }
   ],
   "source": [
    "with open('t2.txt', 'r') as f:\n",
    "    s = f.read()\n",
    "    print(s)\n",
    "    print(type(s))"
   ]
  },
  {
   "cell_type": "code",
   "execution_count": 24,
   "metadata": {},
   "outputs": [],
   "source": [
    "#오류에 대한 log파일 만들때 사용함\n",
    "import sys\n",
    "\n",
    "f = open('t.txt', 'w')\n",
    "stdout = sys.stdout   # 표준 출력 저장해 두기\n",
    "sys.stdout = f        # 파일 객체로 표준 출력 변경\n",
    "print('Sample output')\n",
    "print('Good')\n",
    "print('Good')\n",
    "f.close()\n",
    "sys.stdout = stdout   # 표준 출력 원상 복구"
   ]
  },
  {
   "cell_type": "code",
   "execution_count": 25,
   "metadata": {},
   "outputs": [
    {
     "name": "stdout",
     "output_type": "stream",
     "text": [
      "Sample output\n",
      "Good\n",
      "Good\n",
      "\n"
     ]
    }
   ],
   "source": [
    "f = open('t.txt')\n",
    "print(f.read())"
   ]
  }
 ],
 "metadata": {
  "kernelspec": {
   "display_name": "Python 3",
   "language": "python",
   "name": "python3"
  },
  "language_info": {
   "codemirror_mode": {
    "name": "ipython",
    "version": 3
   },
   "file_extension": ".py",
   "mimetype": "text/x-python",
   "name": "python",
   "nbconvert_exporter": "python",
   "pygments_lexer": "ipython3",
   "version": "3.7.3"
  }
 },
 "nbformat": 4,
 "nbformat_minor": 2
}
